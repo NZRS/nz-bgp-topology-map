{
 "metadata": {
  "kernelspec": {
   "display_name": "Python 3",
   "language": "python",
   "name": "python3"
  },
  "language_info": {
   "codemirror_mode": {
    "name": "ipython",
    "version": 3
   },
   "file_extension": ".py",
   "mimetype": "text/x-python",
   "name": "python",
   "nbconvert_exporter": "python",
   "pygments_lexer": "ipython3",
   "version": "3.4.3"
  },
  "name": ""
 },
 "nbformat": 3,
 "nbformat_minor": 0,
 "worksheets": [
  {
   "cells": [
    {
     "cell_type": "code",
     "collapsed": true,
     "input": [
      "import pandas as pd\n",
      "\n",
      "# Get the delegation data from APNIC\n",
      "\n",
      "# apnic_url = 'http://ftp.apnic.net/stats/apnic/delegated-apnic-latest'\n",
      "apnic_url = 'delegated-apnic-latest'\n",
      "rir = pd.read_csv(apnic_url, delimiter=\"|\", skiprows=31,\n",
      "                  names=['rir', 'cc', 'resource_type', 'resource', 'size',\n",
      "                         'created', 'status'],\n",
      "                  comment=\"#\")\n",
      "\n"
     ],
     "language": "python",
     "metadata": {},
     "outputs": []
    },
    {
     "cell_type": "code",
     "collapsed": false,
     "input": [
      "rir.head()\n"
     ],
     "language": "python",
     "metadata": {},
     "outputs": []
    },
    {
     "cell_type": "code",
     "collapsed": true,
     "input": [
      "def test_f(a):\n",
      "    s = int(a['resource'])\n",
      "    n = a['size']\n",
      "    return pd.DataFrame({'resource': [a for a in range(s+1, s+n)],\n",
      "                         'resource_type': [a['resource_type']] * (n-1),\n",
      "                        'size': [1] * (n-1)})\n",
      "    # return \"Happy \" + str(type(a['resource']))"
     ],
     "language": "python",
     "metadata": {},
     "outputs": []
    },
    {
     "cell_type": "code",
     "collapsed": false,
     "input": [
      "nz_data = rir[rir['cc']=='NZ'][['resource_type', 'resource', 'size']]"
     ],
     "language": "python",
     "metadata": {},
     "outputs": []
    },
    {
     "cell_type": "code",
     "collapsed": false,
     "input": [
      "dlist=[]\n",
      "for idx, row in nz_data.query('(resource_type==\"asn\") & (size>1)').iterrows():\n",
      "    dlist.append(test_f(row))\n",
      "    \n",
      "asn_data = pd.concat(dlist + [nz_data.query('resource_type==\"asn\"')])"
     ],
     "language": "python",
     "metadata": {
      "scrolled": false
     },
     "outputs": []
    },
    {
     "cell_type": "code",
     "collapsed": false,
     "input": [
      "from collections import defaultdict\n",
      "\n",
      "prefixes = defaultdict(list)\n",
      "for idx, row in nz_data.query('(resource_type!=\"asn\")').iterrows():\n",
      "    if row['resource_type'] == 'ipv6':\n",
      "        mask = row['size']\n",
      "    elif row['resource_type'] == 'ipv4':\n",
      "        mask = 32 - (row['size'] - 1).bit_length()\n",
      "        \n",
      "    prefixes[row['resource_type']].append(\"%s/%s\" % (row['resource'], mask))"
     ],
     "language": "python",
     "metadata": {},
     "outputs": []
    },
    {
     "cell_type": "code",
     "collapsed": false,
     "input": [
      "prefixes"
     ],
     "language": "python",
     "metadata": {},
     "outputs": []
    },
    {
     "cell_type": "code",
     "collapsed": false,
     "input": [
      "asn_data"
     ],
     "language": "python",
     "metadata": {},
     "outputs": []
    },
    {
     "cell_type": "code",
     "collapsed": true,
     "input": [
      "prefixes['asn'] = asn_data['resource'].tolist()"
     ],
     "language": "python",
     "metadata": {},
     "outputs": []
    },
    {
     "cell_type": "code",
     "collapsed": false,
     "input": [
      "prefixes"
     ],
     "language": "python",
     "metadata": {},
     "outputs": []
    },
    {
     "cell_type": "code",
     "collapsed": true,
     "input": [],
     "language": "python",
     "metadata": {},
     "outputs": []
    }
   ],
   "metadata": {}
  }
 ]
}